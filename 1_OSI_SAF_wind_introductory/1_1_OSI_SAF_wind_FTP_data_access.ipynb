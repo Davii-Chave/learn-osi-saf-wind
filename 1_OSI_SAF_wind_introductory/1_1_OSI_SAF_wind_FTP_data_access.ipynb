{
 "cells": [
  {
   "cell_type": "markdown",
   "metadata": {},
   "source": [
    "<img src='https://gitlab.eumetsat.int/eumetlab/oceans/ocean-training/tools/frameworks/-/raw/main/img/OSI-SAF_banner.png' align='right' width='100%'/>"
   ]
  },
  {
   "cell_type": "markdown",
   "metadata": {},
   "source": [
    "<a href=\"../Index.ipynb\" target=\"_blank\"><< Index</a>\n",
    "<br>\n",
    "<a href=\"./1_2_OSI_SAF_wind_file_structure.ipynb\" target=\"_blank\">NEXT NOTEBOOK >></a>"
   ]
  },
  {
   "cell_type": "markdown",
   "metadata": {},
   "source": [
    "<font color=\"#138D75\">**OSI SAF Training Service**</font> <br>\n",
    "**Copyright:** 2022 EUMETSAT <br>\n",
    "**License:** MIT"
   ]
  },
  {
   "cell_type": "markdown",
   "metadata": {},
   "source": [
    "<div class=\"alert alert-block alert-success\">\n",
    "<h3>Learn OSI SAF wind: Introductory</h3></div>"
   ]
  },
  {
   "cell_type": "markdown",
   "metadata": {},
   "source": [
    "<div class=\"alert alert-block alert-warning\">\n",
    "    \n",
    "<b>PREREQUISITES </b>\n",
    "    \n",
    "This notebook has the following prerequisites:\n",
    "- **<a href=\"https://osi-saf.eumetsat.int/register\" target=\"_blank\">A EUMETSAT OSI SAF account</a>** if you are using or plan to use the EUMETSAT OSI SAF data.\n",
    "\n",
    "There are no prerequisite notebooks for this module.\n",
    "</div>\n",
    "<hr>"
   ]
  },
  {
   "cell_type": "markdown",
   "metadata": {},
   "source": [
    "# 1.1 Access Metop ASCAT Wind Files - KNMI FTP\n",
    "\n",
    "### Data used\n",
    "\n",
    "| Product Description | Product Navigator | OSI SAF website link | OSI SAF Identifier |\n",
    "|:--------------------:|:-----------------------:|:-------------:|:-----------------:|\n",
    "| Metop-B ASCAT 25 km Winds | EO:EUM:DAT:METOP:OAS025 | <a href=\"https://osi-saf.eumetsat.int/products/osi-102-b\" target=\"_blank\">link</a> | OSI-102-b | \n",
    "| Metop-C ASCAT 25 km Winds | EO:EUM:DAT:METOP:OAS025 | <a href=\"https://osi-saf.eumetsat.int/products/osi-102-c\" target=\"_blank\">link</a> | OSI-102-c | \n",
    "\n",
    "### Learning outcomes\n",
    "\n",
    "At the end of this notebook you will know;\n",
    "* How to download Metop ASCAT winds from the KNMI ftp server\n",
    "\n",
    "### Outline\n",
    "\n",
    "\n",
    "Each product package includes:\n",
    "\n",
    "* measurement data files (NetCDF-4 format)\n",
    "\n",
    "<div class=\"alert alert-info\" role=\"alert\">\n",
    "    \n",
    "## <a id='TOC_TOP'></a>Contents\n",
    "\n",
    "</div>\n",
    "    \n",
    " 1. [Creating our workspace](#section1)\n",
    " 1. [Setting query parameters](#section2)\n",
    " 1. [Downloading via FTP requests](#section3)\n",
    "\n",
    "<hr>"
   ]
  },
  {
   "cell_type": "markdown",
   "metadata": {},
   "source": [
    "<div class=\"alert alert-info\" role=\"alert\">\n",
    "\n",
    "## <a id='section1'></a>1. Creating the workspace\n",
    "[Back to top](#TOC_TOP)\n",
    "\n",
    "</div>\n",
    "\n",
    "We begin by importing all of the libraries that we need to run this notebook. If you have built your python using the environment file provided in this repository, then you should have everything you need. For more information on building environment, please see the repository **<a href=\"../README.md\" target=\"_blank\">README</a>**."
   ]
  },
  {
   "cell_type": "code",
   "execution_count": 1,
   "metadata": {},
   "outputs": [],
   "source": [
    "# library imports\n",
    "import os           # a library that allows to access to basic operating system commands like making directories\n",
    "import json         # a library that helps with JSON format files\n",
    "import ftplib       # a library that allows to handle ftp requests\n",
    "import gzip\n",
    "import shutil"
   ]
  },
  {
   "cell_type": "markdown",
   "metadata": {},
   "source": [
    "Next we will create a download directory to store the products we will download in this notebook."
   ]
  },
  {
   "cell_type": "code",
   "execution_count": 2,
   "metadata": {},
   "outputs": [],
   "source": [
    "download_dir = os.path.join(os.getcwd(), \"products\")\n",
    "os.makedirs(download_dir, exist_ok=True)"
   ]
  },
  {
   "cell_type": "markdown",
   "metadata": {},
   "source": [
    "<div class=\"alert alert-info\" role=\"alert\">\n",
    "\n",
    "## <a id='section2'></a>2. Setting login information\n",
    "[Back to top](#TOC_TOP)\n",
    "\n",
    "</div>\n",
    "\n",
    "We will access OSI SAF from the OSI SAF Wind processing centre FTP server.\n",
    "\n",
    "In order to allow us to download data, we need to provide our credentials. We can do this in two ways; either by creating a file called `.eumetsat_osi_saf_wind_credentials` in our home directory (*option 1 - recommended*) or by supplying our credentials directly in this script (*option 2*). \n",
    "\n",
    "#### Option 1: creating  `.eumetsat_osi_saf_wind_credentials` in our home directory\n",
    "\n",
    "For most computer systems the home directory can be found at the path \\user\\username, /users/username, or /home/username depending on your operating system.\n",
    "\n",
    "In this file we need to add the following information exactly as follows;\n",
    "\n",
    "```\n",
    "{\n",
    "\"username\": \"<provided_username>\",\n",
    "\"password\": \"<provided_password>\"\n",
    "}\n",
    "```\n",
    "\n",
    "You must replace `<provided_username>` and `<provided_password>` with the information provided to you after you have registered to the OSI SAF website and mentionned your interest in Sea Ice data. \n",
    "\n",
    "Once you have created an <a href=\"https://osi-saf.eumetsat.int/register\" target=\"_blank\">EUMETSAT OSI SAF account</a>, the generic password and credentials to access OSI SAF Wind server should have been sent to you via email.\n",
    "\n",
    "Make sure to save the file without any kind of extension.\n",
    "\n",
    "Once you have done this, you can read in your credentials using the commands in the following cell. These will be used to generate a time-limited token, which will refresh itself when it expires."
   ]
  },
  {
   "cell_type": "markdown",
   "metadata": {},
   "source": [
    "Reading credential information"
   ]
  },
  {
   "cell_type": "code",
   "execution_count": 3,
   "metadata": {},
   "outputs": [],
   "source": [
    "# read credentials\n",
    "with open(os.path.join(os.path.expanduser(\"~\"),'.eumetsat_osi_saf_wind_credentials')) as json_file:\n",
    "    credentials = json.load(json_file)"
   ]
  },
  {
   "cell_type": "markdown",
   "metadata": {},
   "source": [
    "Loading credentials"
   ]
  },
  {
   "cell_type": "code",
   "execution_count": 4,
   "metadata": {},
   "outputs": [],
   "source": [
    "username = credentials['username'] \n",
    "password = credentials['password']"
   ]
  },
  {
   "cell_type": "markdown",
   "metadata": {},
   "source": [
    "#### Option 2: provide credentials directly\n",
    "\n",
    "You can provide your credentials directly as follows; by uncommenting the following lines. "
   ]
  },
  {
   "cell_type": "code",
   "execution_count": 5,
   "metadata": {},
   "outputs": [],
   "source": [
    "#username = \"<provided_username>\"\n",
    "#password = \"<provided_password>\""
   ]
  },
  {
   "cell_type": "markdown",
   "metadata": {},
   "source": [
    "You must replace <provided_username> and <provided_password> with the information provided to you after you have registered to the OSI SAF website and mentionned your interest in Sea Ice data.\n",
    "\n",
    "Once you have created an EUMETSAT OSI SAF account, the generic password and credentials to access OSI SAF Wind server should have been sent to you via email.\n",
    "\n",
    "Note: this method is convenient in the short term, but is not really recommended as you have to put your provided username and password in this notebook, and run the risk of accidentally sharing them. This method also requires you to authenticate on a notebook-by-notebook basis."
   ]
  },
  {
   "cell_type": "markdown",
   "metadata": {},
   "source": [
    "<div class=\"alert alert-danger\" role=\"alert\">\n",
    "\n",
    "## <a id='section3'></a>3. FTP access ASCAT winds\n",
    "[Back to top](#TOC_TOP)\n",
    "\n",
    "</div>"
   ]
  },
  {
   "cell_type": "markdown",
   "metadata": {},
   "source": [
    "Let's start by creating a specific folder to hold the Metop-B/Ascat Wind products"
   ]
  },
  {
   "cell_type": "code",
   "execution_count": 6,
   "metadata": {},
   "outputs": [],
   "source": [
    "download_dir = os.path.join(os.getcwd(), \"products/ascat_b\")\n",
    "os.makedirs(download_dir, exist_ok=True)"
   ]
  },
  {
   "cell_type": "markdown",
   "metadata": {},
   "source": [
    "Set the download path"
   ]
  },
  {
   "cell_type": "code",
   "execution_count": 7,
   "metadata": {},
   "outputs": [],
   "source": [
    " path = '/scat/netcdf/ascat_b/'\n",
    "filename = 'ascat_20221110_142700_metopb_52650_eps_o_250_3301_ovw.l2.nc.gz'"
   ]
  },
  {
   "cell_type": "code",
   "execution_count": 8,
   "metadata": {},
   "outputs": [
    {
     "data": {
      "text/plain": [
       "'221 Goodbye.'"
      ]
     },
     "execution_count": 8,
     "metadata": {},
     "output_type": "execute_result"
    }
   ],
   "source": [
    "# connect ftp and download file\n",
    "ftp = ftplib.FTP(\"ftppro.knmi.nl\") \n",
    "ftp.login(username, password)\n",
    "ftp.cwd(path)\n",
    "ftp.retrbinary(\"RETR \" + filename, open('products/ascat_b/' + filename, 'wb').write)\n",
    "ftp.quit()"
   ]
  },
  {
   "cell_type": "markdown",
   "metadata": {},
   "source": [
    "Unzip the data file"
   ]
  },
  {
   "cell_type": "code",
   "execution_count": 9,
   "metadata": {},
   "outputs": [],
   "source": [
    "import shutil\n",
    "with open('products/ascat_b/' + filename[:-3], 'wb') as f_out:\n",
    "    with gzip.open('products/ascat_b/' + filename, 'rb') as f_in:\n",
    "        shutil.copyfileobj(f_in, f_out)"
   ]
  },
  {
   "cell_type": "markdown",
   "metadata": {},
   "source": [
    "Let's create a specific folder to hold the Metop-C/Ascat Wind products"
   ]
  },
  {
   "cell_type": "code",
   "execution_count": 10,
   "metadata": {},
   "outputs": [],
   "source": [
    "download_dir = os.path.join(os.getcwd(), \"products/ascat_c\")\n",
    "os.makedirs(download_dir, exist_ok=True)"
   ]
  },
  {
   "cell_type": "markdown",
   "metadata": {},
   "source": [
    "Set the download path"
   ]
  },
  {
   "cell_type": "code",
   "execution_count": 11,
   "metadata": {},
   "outputs": [],
   "source": [
    " path = '/scat/netcdf/ascat_c/'\n",
    "filename = 'ascat_20221111_030900_metopc_20815_eps_o_coa_3301_ovw.l2.nc.gz'"
   ]
  },
  {
   "cell_type": "code",
   "execution_count": 12,
   "metadata": {},
   "outputs": [
    {
     "data": {
      "text/plain": [
       "'221 Goodbye.'"
      ]
     },
     "execution_count": 12,
     "metadata": {},
     "output_type": "execute_result"
    }
   ],
   "source": [
    "# connect ftp and download file\n",
    "ftp = ftplib.FTP(\"ftppro.knmi.nl\") \n",
    "ftp.login(username, password)\n",
    "ftp.cwd(path)\n",
    "ftp.retrbinary(\"RETR \" + filename, open('products/ascat_c/' + filename, 'wb').write)\n",
    "ftp.quit()"
   ]
  },
  {
   "cell_type": "markdown",
   "metadata": {},
   "source": [
    "Unzip the data file"
   ]
  },
  {
   "cell_type": "code",
   "execution_count": 13,
   "metadata": {},
   "outputs": [],
   "source": [
    "import shutil\n",
    "with open('products/ascat_c/' + filename[:-3], 'wb') as f_out:\n",
    "    with gzip.open('products/ascat_c/' + filename, 'rb') as f_in:\n",
    "        shutil.copyfileobj(f_in, f_out)"
   ]
  },
  {
   "cell_type": "markdown",
   "metadata": {},
   "source": [
    "<a href=\"../Index.ipynb\" target=\"_blank\"><< Index</a>\n",
    "<br>\n",
    "<a href=\"./1_2_OSI_SAF_wind_file_structure.ipynb\" target=\"_blank\">NEXT NOTEBOOK >></a>\n",
    "<hr>\n",
    "<a href=\"https://gitlab.eumetsat.int/eumetlab/ocean\">View on GitLab</a> | <a href=\"https://training.eumetsat.int/\">EUMETSAT Training</a> | <a href=mailto:ops@eumetsat.int>Contact helpdesk for support </a> | <a href=mailto:Copernicus.training@eumetsat.int>Contact our training team to collaborate on and reuse this material</a></span></p>"
   ]
  }
 ],
 "metadata": {
  "author": "Ben Loveday, Hayley Evers-King",
  "description": "This Jupyter Notebook covers the file structure of OLCI level-1B and level-2 products.",
  "github": "https://github.com/wekeo/learn-olci/blob/main/1_OLCI_introductory/1_2_OLCI_file_structure.ipynb",
  "image": "../img/thumbs/1_2_OLCI_file_structure_thumb.png",
  "kernelspec": {
   "display_name": "Python 3 (ipykernel)",
   "language": "python",
   "name": "python3"
  },
  "language_info": {
   "codemirror_mode": {
    "name": "ipython",
    "version": 3
   },
   "file_extension": ".py",
   "mimetype": "text/x-python",
   "name": "python",
   "nbconvert_exporter": "python",
   "pygments_lexer": "ipython3",
   "version": "3.10.5"
  },
  "link": "https://jupyterhub-wekeo.apps.eumetsat.dpi.wekeo.eu/hub/user-redirect/lab/tree/public/ocean/learn-olci/1_OLCI_introductory/1_2_OLCI_file_structure.ipynb",
  "tags": {
   "domain": "Ocean",
   "platform": "Sentinel-3",
   "sensor": "OLCI",
   "tags": [
    "Top-of-atmosphere radiance",
    "Water leaving reflectance",
    "Ocean colour"
   ]
  },
  "title": "OLCI file structure"
 },
 "nbformat": 4,
 "nbformat_minor": 4
}
