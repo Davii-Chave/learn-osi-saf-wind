{
 "cells": [
  {
   "cell_type": "markdown",
   "id": "b907b623-4723-4529-879f-459d73dfc461",
   "metadata": {},
   "source": [
    "<img src='https://gitlab.eumetsat.int/eumetlab/oceans/ocean-training/tools/frameworks/-/raw/main/img/OSI-SAF_banner.png' align='right' width='100%'/>"
   ]
  },
  {
   "cell_type": "markdown",
   "id": "5db965ed-0650-4866-9608-32a7938dc6b2",
   "metadata": {},
   "source": [
    "<a href=\"../Index.ipynb\" target=\"_blank\"><< Index</a>\n",
    "<br>\n",
    "<a href=\"./1_2_OSI_SAF_wind_file_structure.ipynb\" target=\"_blank\"><< Exploring OSI SAF wind product structure</a>"
   ]
  },
  {
   "cell_type": "markdown",
   "id": "718a26b8-1fc7-42fe-8780-e727b3824bbf",
   "metadata": {},
   "source": [
    "<font color=\"#138D75\">**EUMETSAT OSI SAF Training Service**</font> <br>\n",
    "**Copyright:** 2024 EUMETSAT <br>\n",
    "**License:** MIT"
   ]
  },
  {
   "cell_type": "markdown",
   "id": "cb2529b9-21aa-4904-9eea-7a7b632f5b2d",
   "metadata": {},
   "source": [
    "<html>\n",
    "  <div style=\"width:100%\">\n",
    "    <div style=\"float:left\"><a href=\"https://mybinder.org/v2/git/https%3A%2F%2Fgitlab.eumetsat.int%2Feumetlab%2Foceans%2Focean-training%2Fsensors%2Flearn-osi-saf-wind/HEAD?urlpath=%2Ftree%2F1_OSI_SAF_wind_introductory%2F1_3_OSI_SAF_mapping_wind.ipynb\"><img src=\"https://mybinder.org/badge_logo.svg\" alt=\"Open in Binder\"></a></div>\n",
    "    <div style=\"float:left\"><p>&emsp;</p></div>\n",
    "  </div>\n",
    "</html>"
   ]
  },
  {
   "cell_type": "markdown",
   "id": "c8417190-eb32-4955-88ef-304f732b58ab",
   "metadata": {},
   "source": [
    "<div class=\"alert alert-block alert-success\">\n",
    "<h3>Learn OSI SAF wind: Introductory</h3></div>"
   ]
  },
  {
   "cell_type": "markdown",
   "id": "e587d8d3-71a1-4dc5-93f6-d3da8484d41d",
   "metadata": {},
   "source": [
    "# 2.1b Advanced Mapping : Case study of typhoon [NOM]\n",
    "\n",
    "### Data used\n",
    "\n",
    "| Product Description | Product Navigator | OSI SAF website link | OSI SAF Identifier |\n",
    "|:--------------------:|:-----------------------:|:-------------:|:-----------------:|\n",
    "| HY-2D 25 km wind vectors |  | <a href=\"https://osi-saf.eumetsat.int/products/osi-116-a\" target=\"_blank\">link</a> | OSI-116-a | \n",
    "\n",
    "### Learning outcomes\n",
    "\n",
    "At the end of this notebook you will know;\n",
    "* Map winds products using cartopy\n",
    "* Retrive an satellite image from eumetview\n",
    "* Overlay IR image and wind vector\n",
    "\n",
    "<div class=\"alert alert-info\" role=\"alert\">\n",
    "    \n",
    "## <a id='TOC-TOP'></a>Contents\n",
    "\n",
    "</div>\n",
    "    \n",
    " 1. [Setting Parameters](#section1)\n",
    " 1. [Mapping a wind dataset with cartopy](#section2)\n",
    "\n",
    "<hr>"
   ]
  },
  {
   "cell_type": "markdown",
   "id": "dc2497ab-f769-4016-92ec-cf8fa1df69cd",
   "metadata": {},
   "source": [
    "We begin by importing all of the libraries that we need to run this notebook. If you have built your python using the environment file provided in this repository, then you should have everything you need. For more information on building environment, please see the repository **<a href=\"../README.md\" target=\"_blank\">README</a>**."
   ]
  },
  {
   "cell_type": "code",
   "execution_count": null,
   "id": "ef4ffaed-e612-47d4-87dc-6a9d75455b9f",
   "metadata": {},
   "outputs": [],
   "source": [
    "# library imports\n",
    "import os                          # a library that allows us access to basic operating system commands\n",
    "import xarray as xr                # a library that supports the use of multi-dimensional arrays in Python\n",
    "import matplotlib as mpl           # a library for visualization\n",
    "import matplotlib.pyplot as plt    # a library that supports plotting\n",
    "import matplotlib.cm as mpl_cm     # a part of the plotting library that provides colour maps\n",
    "import cartopy.crs as ccrs         # a mapping library that supports reprojection\n",
    "import cartopy.feature as cfeature # a part of the mapping library that provides features such as coastlines\n",
    "import cmocean                     # colormaps for ocean products\n",
    "import numpy as np                 # a library that supports array manipulation\n",
    "import warnings                    # a library that controls python warnings\n",
    "import json                        # a library that allow us to work with json data\n",
    "import requests                    # a library that allow us to work with HTTP\n",
    "import eumdac                      # a tool that helps us download via the eumetsat/data-store\n",
    "import urllib.request              # a library that allow us to work with URL\n",
    "from pathlib import Path           # a library that helps construct system path objects\n",
    "from owslib.wms import WebMapService \n",
    "from owslib.util import Authentication\n",
    "\n",
    "#from authorisation_functions import authorisation_functions as auth\n",
    "warnings.filterwarnings('ignore')"
   ]
  },
  {
   "cell_type": "markdown",
   "id": "e10ec0ce-6d85-4cf5-8dd8-09d1cfab60f8",
   "metadata": {},
   "source": [
    "\n",
    "<div class=\"alert alert-info\" role=\"alert\">\n",
    "\n",
    "## <a id='section1'></a>1. Setting login information\n",
    "[Back to top](#TOC-TOP)\n",
    "\n",
    "</div>\n",
    "The access to eumetview data follows the same process as the access to eumetsat data store.\n",
    "\n",
    "See the processus at <a href=\"./1_1b_OSI_SAF_SST_wind_data_access_eumdac.ipynb\" target=\"_blank\"> 1_1b_OSI_SAF_SST_wind_data_access_eumdac</a>."
   ]
  },
  {
   "cell_type": "code",
   "execution_count": null,
   "id": "5117ee95-f712-40d4-94e4-896db55b077b",
   "metadata": {},
   "outputs": [],
   "source": [
    "# load credentials\n",
    "credentials_file = os.path.join(os.path.expanduser(\"~\"),'.eumdac','credentials')\n",
    "credentials = Path(credentials_file).read_text().split(',')\n",
    "token = eumdac.AccessToken((credentials[0], credentials[1]))\n",
    "print(f\"This token '{token}' expires {token.expiration}\")\n",
    "\n",
    "# create data store object\n",
    "datastore = eumdac.DataStore(token)"
   ]
  },
  {
   "cell_type": "markdown",
   "id": "08d11cf5-f5a3-4610-9349-87a7a1e07249",
   "metadata": {
    "tags": []
   },
   "source": [
    "<div class=\"alert alert-info\" role=\"alert\">\n",
    "\n",
    "## <a id='section2'></a>2. Setting Parameters\n",
    "[Back to top](#TOC-TOP)\n",
    "\n",
    "</div>"
   ]
  },
  {
   "cell_type": "markdown",
   "id": "e0b3c8e7-8b0f-4c13-b4b1-38a58144281c",
   "metadata": {},
   "source": [
    "Select the direcory where the data of HY-2B 25 km wind is available"
   ]
  },
  {
   "cell_type": "code",
   "execution_count": null,
   "id": "02ce39fd-3631-40ea-88e2-1a4107ffcfa2",
   "metadata": {},
   "outputs": [],
   "source": [
    "directory = os.path.join(os.getcwd(), 'typhoon')"
   ]
  },
  {
   "cell_type": "markdown",
   "id": "8f8a2713-dc0c-4cb1-a0bf-0ff889b1f4b8",
   "metadata": {},
   "source": [
    "Select geographical area for zooming map"
   ]
  },
  {
   "cell_type": "code",
   "execution_count": null,
   "id": "4ba09754-5b49-4aa3-a58f-19b19a4e2a42",
   "metadata": {},
   "outputs": [],
   "source": [
    "# Set area\n",
    "lon_min = 120\n",
    "lon_max = 146\n",
    "lat_min = 4\n",
    "lat_max = 23"
   ]
  },
  {
   "cell_type": "markdown",
   "id": "2abb22a1-634a-44bc-b646-1219a1e3c036",
   "metadata": {},
   "source": [
    "Choose a colormap for your data set. You can find more information on matplotlib colormaps <a href=\"https://matplotlib.org/stable/tutorials/colors/colormaps.html\" target=\"_blank\">here</a>. "
   ]
  },
  {
   "cell_type": "code",
   "execution_count": null,
   "id": "3d5ad4bb-1556-4b0e-9ea0-5622e5d0e018",
   "metadata": {},
   "outputs": [],
   "source": [
    "cmap = mpl_cm.get_cmap('RdYlBu_r')"
   ]
  },
  {
   "cell_type": "markdown",
   "id": "4f83afaa-38da-4692-81cd-95598a9bc212",
   "metadata": {},
   "source": [
    "We also recommend you have a look at <a href=\" https://matplotlib.org/cmocean/\" target=\"_blank\">cmocean colormaps</a> ."
   ]
  },
  {
   "cell_type": "code",
   "execution_count": null,
   "id": "978699ba-d799-4cde-b74f-4bf8402bd7e7",
   "metadata": {},
   "outputs": [],
   "source": [
    "# another choice could be\n",
    "#cmap = cmocean.cm.speed"
   ]
  },
  {
   "cell_type": "markdown",
   "id": "48417248-3cfe-4b19-8c06-37e0d67c841f",
   "metadata": {
    "tags": []
   },
   "source": [
    "\n",
    "<div class=\"alert alert-info\" role=\"alert\">\n",
    "\n",
    "## <a id='section3'></a>2. Background : IR image \n",
    "[Back to top](#TOC-TOP)\n",
    "\n",
    "</div>\n",
    "The objective of this section is to retrive a Infrared image of the typhon [NOM] from the Eumetsat tool *Emetview*.\n",
    "\n",
    "In an infrared image, clouds can be visualize and so, it is possible to see the wrap-around cloud of the typhoon."
   ]
  },
  {
   "cell_type": "markdown",
   "id": "1c1c2441-c546-4b6b-b543-94bce50150fc",
   "metadata": {},
   "source": [
    "Set the url link of eumetview"
   ]
  },
  {
   "cell_type": "code",
   "execution_count": null,
   "id": "d91570eb-dda2-4fec-9313-a6ec7c1699f1",
   "metadata": {},
   "outputs": [],
   "source": [
    "service_url = 'https://view.eumetsat.int/geoserver/ows?'"
   ]
  },
  {
   "cell_type": "markdown",
   "id": "ac1434c6-7bae-44ec-a943-a153e87bd5b6",
   "metadata": {},
   "source": [
    "Set the image collection "
   ]
  },
  {
   "cell_type": "code",
   "execution_count": null,
   "id": "1c299054-6e66-4a73-b596-dcffc7f3f491",
   "metadata": {},
   "outputs": [],
   "source": [
    "collection = \"mumi:worldcloudmap_ir108\""
   ]
  },
  {
   "cell_type": "markdown",
   "id": "485bb39d-0b89-4f68-8f5e-8fc5d66741a9",
   "metadata": {},
   "source": [
    "Set the geographical area and the date"
   ]
  },
  {
   "cell_type": "code",
   "execution_count": null,
   "id": "05adfb3d-dbf4-40ad-b06b-dcbd7d8f2f44",
   "metadata": {},
   "outputs": [],
   "source": [
    "region1 = \"4,120,23,146\"\n",
    "date = \"2023-06-8T19:45:50.000Z\""
   ]
  },
  {
   "cell_type": "markdown",
   "id": "9d4338c2-c3c7-4a85-83a9-08d46719e5f1",
   "metadata": {},
   "source": [
    "Research the image"
   ]
  },
  {
   "cell_type": "code",
   "execution_count": null,
   "id": "0458153b-5dd0-487d-914f-8802ce69c07d",
   "metadata": {},
   "outputs": [],
   "source": [
    "wms = WebMapService(service_url, auth=Authentication(verify=False))\n",
    "\n",
    "# set the size of the image\n",
    "xval = 800\n",
    "region = [int(x) for x in region1.split(\",\")]\n",
    "ratio = (region[3] - region[1])/ (region[2] - region[0])\n",
    "\n",
    "format_option = 'image/jpeg'\n",
    "payload = {'service' : 'WMS',\n",
    "'access_token' : token,\n",
    "'request' : 'GetMap',\n",
    "'version' : '1.3.0',\n",
    "'layers' : collection + \",backgrounds:ne_10m_coastline\", # We display the layer together with the coastlines layer\n",
    "'format' : format_option,\n",
    "'crs' : 'EPSG:4326',\n",
    "'bbox' : region1,\n",
    "'width' : int(xval),  \n",
    "'height' : int(xval/ratio), \n",
    "'time': date }   \n",
    "req = requests.get(service_url, params=payload)"
   ]
  },
  {
   "cell_type": "markdown",
   "id": "81980169-08a6-48fb-95f8-1fa3b8b1b00e",
   "metadata": {},
   "source": [
    "Plot the IR image "
   ]
  },
  {
   "cell_type": "code",
   "execution_count": null,
   "id": "1ad2ee8b-a588-4720-9506-be22dfa61b03",
   "metadata": {},
   "outputs": [],
   "source": [
    "file = urllib.request.urlopen(req.url)\n",
    "im_IR = plt.imread(file, 0)\n",
    "plt.imshow(im_IR)"
   ]
  },
  {
   "cell_type": "markdown",
   "id": "5c046fa1-87d7-41a7-b360-0d76020f204c",
   "metadata": {
    "tags": []
   },
   "source": [
    "<div class=\"alert alert-info\" role=\"alert\">\n",
    "\n",
    "## <a id='section3'></a>3. Wind vector\n",
    "[Back to top](#TOC-TOP)\n",
    "\n",
    "</div>\n",
    "The objective of this section is to plot the wind vectors of the typhon [NOM]."
   ]
  },
  {
   "cell_type": "code",
   "execution_count": null,
   "id": "039fbdc2-eff7-491c-9ac7-43f2b832520b",
   "metadata": {},
   "outputs": [],
   "source": [
    "fig = plt.figure(figsize=(16,12))\n",
    "\n",
    "# set data projection and request output projection\n",
    "data_projection=ccrs.PlateCarree()\n",
    "output_projection=ccrs.PlateCarree()\n",
    "\n",
    "# define plot carateristics\n",
    "ax = plt.axes([0.1,0.1,0.75,0.85], projection=output_projection)\n",
    "ax.set_extent([lon_min,lon_max,lat_min,lat_max], crs=data_projection)\n",
    "ax.add_feature(cfeature.OCEAN, zorder=0, facecolor='black') # Change color of ocean\n",
    "ax.add_feature(cfeature.LAND, zorder=0, facecolor='lightgrey')  # Change color of landl \n",
    "ax.coastlines()    # Add coastline\n",
    "ax.coastlines('10m')\n",
    "#Add title\n",
    "plt.title(\"Wind vector\")\n",
    "\n",
    "# open and plot osi saf netcdf wind files\n",
    "for filename in os.listdir(directory):\n",
    "    if filename.endswith(\".nc\"):\n",
    "        nc = xr.open_dataset(os.path.join(directory, filename))\n",
    "        lat = nc.variables['lat'][:]    \n",
    "        lon = nc.variables['lon'][:]\n",
    "        wind_speed = nc.variables['wind_speed'][:]\n",
    "        wind_dir = nc.variables['wind_dir'][:]\n",
    "        nc.close()\n",
    "        \n",
    "        wind_speed = np.ma.masked_where(lon<1, wind_speed)\n",
    "        \n",
    "        # plotting wind barbs in cartopy requires u and v and components.\n",
    "        u = np.full_like(lat,0)\n",
    "        v = np.full_like(lat,0)\n",
    "        u[:,:] = wind_speed * np.cos(np.radians(90 - wind_dir[:,:]))\n",
    "        v[:,:] = wind_speed * np.sin(np.radians(90 - wind_dir[:,:]))\n",
    "        stride = 2  #Select some data\n",
    "        \n",
    "        # plotting wind direction and wind speed\n",
    "        im = ax.quiver(lon[::stride,::stride], lat[::stride,::stride], u[::stride,::stride], \n",
    "                v[::stride,::stride], wind_speed[::stride,::stride], cmap=cmap, transform=data_projection, \n",
    "                scale = 600)\n",
    "        \n",
    "        im.set_clim(0,20)\n",
    "        \n",
    "# Adding a colorbar\n",
    "axc = fig.add_axes((0.1,0.10,0.75,0.02))\n",
    "bounds = range(0,20)\n",
    "cb = plt.colorbar(im, orientation='horizontal', extend='both', cax=axc, ticks=bounds, boundaries=bounds)\n",
    "cb.set_label('Wind Speed [m/s]', fontsize=18)\n",
    "cb.ax.tick_params(labelsize=14)"
   ]
  },
  {
   "cell_type": "markdown",
   "id": "08e8a7e7-3843-465c-9bab-9384c65b96a9",
   "metadata": {
    "tags": []
   },
   "source": [
    "##\n",
    "<div class=\"alert alert-info\" role=\"alert\">\n",
    "\n",
    "## <a id='section4'></a>4. Overlay\n",
    "[Back to top](#TOC-TOP)\n",
    "\n",
    "</div>\n",
    "The obejctive of this final section is to overlay the IR image with the wind vetor."
   ]
  },
  {
   "cell_type": "code",
   "execution_count": null,
   "id": "9e62c271-0b9d-4606-b667-e76735a1477e",
   "metadata": {},
   "outputs": [],
   "source": [
    "fig = plt.figure(figsize=(16,12))\n",
    "\n",
    "# set data projection and request output projection\n",
    "data_projection=ccrs.PlateCarree()\n",
    "output_projection=ccrs.PlateCarree()"
   ]
  },
  {
   "cell_type": "code",
   "execution_count": null,
   "id": "976a794f-9bb5-493a-8583-03fd5258ca2d",
   "metadata": {},
   "outputs": [],
   "source": [
    "fig = plt.figure(figsize=(16,12))\n",
    "\n",
    "# set data projection and request output projection\n",
    "data_projection=ccrs.PlateCarree()\n",
    "output_projection=ccrs.PlateCarree()\n",
    "\n",
    "# define plot carateristics\n",
    "ax = plt.axes([0.1,0.1,0.75,0.85], projection=output_projection)\n",
    "ax.set_extent([lon_min,lon_max,lat_min,lat_max], crs=data_projection)\n",
    "ax.add_feature(cfeature.OCEAN, zorder=0, facecolor='black') # Change color of ocean\n",
    "ax.add_feature(cfeature.LAND, zorder=0, facecolor='lightgrey')  # Change color of land\n",
    "ax.coastlines()    # Add coastline\n",
    "ax.coastlines('10m')\n",
    "\n",
    "#Add title\n",
    "plt.title(\"Wind speed and direction during typhoon - 2023_06_08 19:45:50 UTC\")\n",
    "\n",
    "#Add IR backgroud image\n",
    "img_extent = (lon_min, lon_max, lat_min, lat_max)\n",
    "ax.imshow(im_IR, origin='upper', extent=img_extent, transform=ccrs.PlateCarree())\n",
    "\n",
    "# open and plot osi saf netcdf wind files\n",
    "for filename in os.listdir(directory):\n",
    "    if filename.endswith(\".nc\"):\n",
    "        nc = xr.open_dataset(os.path.join(directory, filename))\n",
    "        lat = nc.variables['lat'][:]    \n",
    "        lon = nc.variables['lon'][:]\n",
    "        wind_speed = nc.variables['wind_speed'][:]\n",
    "        wind_dir = nc.variables['wind_dir'][:]\n",
    "        nc.close()\n",
    "        \n",
    "        wind_speed = np.ma.masked_where(lon<1, wind_speed)\n",
    "        \n",
    "        # plotting wind barbs in cartopy requires u and v and components.\n",
    "        u = np.full_like(lat,0)\n",
    "        v = np.full_like(lat,0)\n",
    "        u[:,:] = wind_speed * np.cos(np.radians(90 - wind_dir[:,:]))\n",
    "        v[:,:] = wind_speed * np.sin(np.radians(90 - wind_dir[:,:]))\n",
    "        stride = 2  #Select some data\n",
    "        \n",
    "        # plotting wind direction and wind speed\n",
    "        im = ax.quiver(lon[::stride,::stride], lat[::stride,::stride], u[::stride,::stride], \n",
    "                v[::stride,::stride], wind_speed[::stride,::stride], cmap=cmap, transform=data_projection, \n",
    "                scale = 600)\n",
    "        \n",
    "# Adding a colorbar\n",
    "axc = fig.add_axes((0.1,0.10,0.75,0.02))\n",
    "bounds = range(0,20)\n",
    "cb = plt.colorbar(im, orientation='horizontal', extend='both', cax=axc, ticks=bounds, boundaries=bounds)\n",
    "cb.set_label('Wind Speed [m/s]', fontsize=18)\n",
    "cb.ax.tick_params(labelsize=14)"
   ]
  },
  {
   "cell_type": "markdown",
   "id": "b9475359-4ded-4ec3-9e15-a68564d4af2e",
   "metadata": {},
   "source": [
    "<hr>\n",
    "<a href=\"../Index.ipynb\" target=\"_blank\"><< Index</a>\n",
    "<br>\n",
    "<a href=\"./1_2_OSI_SAF_wind_file_structure.ipynb\" target=\"_blank\"><< Exploring OSI SAF wind product structure</a>\n",
    "<hr>\n",
    "<a href=\"https://gitlab.eumetsat.int/eumetlab/ocean\">View on GitLab</a> | <a href=\"https://training.eumetsat.int/\">EUMETSAT Training</a> | <a href=mailto:ops@eumetsat.int>Contact helpdesk for support </a> | <a href=mailto:training@eumetsat.int>Contact our training team to collaborate on and reuse this material</a></span></p>"
   ]
  }
 ],
 "metadata": {
  "kernelspec": {
   "display_name": "Python 3 (ipykernel)",
   "language": "python",
   "name": "python3"
  },
  "language_info": {
   "codemirror_mode": {
    "name": "ipython",
    "version": 3
   },
   "file_extension": ".py",
   "mimetype": "text/x-python",
   "name": "python",
   "nbconvert_exporter": "python",
   "pygments_lexer": "ipython3",
   "version": "3.10.13"
  }
 },
 "nbformat": 4,
 "nbformat_minor": 5
}
