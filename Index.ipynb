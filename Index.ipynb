{
 "cells": [
  {
   "cell_type": "markdown",
   "metadata": {
    "Collapsed": "false"
   },
   "source": [
    "<img src='https://gitlab.eumetsat.int/eumetlab/oceans/ocean-training/tools/frameworks/-/raw/main/img/OSI-SAF_banner.png' align='right' width='100%'/>"
   ]
  },
  {
   "cell_type": "markdown",
   "metadata": {},
   "source": [
    "<font color=\"#138D75\">**EUMETSAT OSI SAF Training Service**</font> <br>\n",
    "**Copyright:** 2023 EUMETSAT <br>\n",
    "**License:** MIT"
   ]
  },
  {
   "cell_type": "markdown",
   "metadata": {},
   "source": [
    "<html>\n",
    "  <div style=\"width:100%\">\n",
    "    <div style=\"float:left\"><a href=\"https://mybinder.org/v2/git/https%3A%2F%2Fgitlab.eumetsat.int%2Feumetlab%2Foceans%2Focean-training%2Fsensors%2Flearn-osi-saf-wind/HEAD?urlpath=%2Ftree%2FIndex.ipynb\"><img src=\"https://mybinder.org/badge_logo.svg\" alt=\"Open in Binder\"></a></div>\n",
    "    <div style=\"float:left\"><p>&emsp;</p></div>\n",
    "  </div>\n",
    "</html>"
   ]
  },
  {
   "cell_type": "markdown",
   "metadata": {},
   "source": [
    "<div class=\"alert alert-block alert-success\">\n",
    "<h3>Learn OSI SAF wind</h3></div>\n",
    "<hr>"
   ]
  },
  {
   "cell_type": "markdown",
   "metadata": {
    "Collapsed": "false"
   },
   "source": [
    "# Index for the learn-OSI-SAF-wind module\n",
    "\n",
    "### About \n",
    "\n",
    "The EUMETSAT Ocean and Sea Ice Satellite Application Facility (OSI SAF) produces a range of airsea interface products, namely: wind, sea ice characteristics, Sea Surface Temperatures (SST) and radiative fluxes, Surface Solar Irradiance (SSI) and Downward Long wave Irradiance (DLI).  \n",
    "\n",
    "KNMI is involved in the OSI SAF and the EUMETSAT Advanced Retransmission Service (EARS) ASCAT service as the centre where the Level 1b to Level 2 wind processing is carried out. This document is the Product User Manual to the ASCAT wind products. Quality monitoring information on this product and more general information on the whole OSI SAF project, is available on the OSI SAF web site: https://osi-saf.eumetsat.int/. The user is strongly encouraged to register on this web site in order to receive the service messages and the latest information about the OSI SAF products. \n",
    "\n",
    "The wind products are distributed in two resolutions: a 50-km resolution product with 25-km cell spacing and a 25-km resolution coastal product with 12.5-km cell spacing. In the coastal products the individual backscatter observations are not averaged using a Hamming spatial filtering (like in the 25 km grid spacing product) but using a boxcar filtering. The boxcar spatial filtering yields comparable wind characteristics in full sea regions and additionally more wind data closer to the coast. Both resolutions are available as a regional (mainly covering the Northern Hemisphere) EARS product with a timeliness of approximately 25 minutes from sensing time and as a global OSI SAF product with a timeliness of approximately 1.5-2 hours from sensing time. A global 12.5-km Hamming filter product was available for Metop-A only and it was discontinued in April 2015. \n",
    "\n",
    "The scatterometer is an instrument that provides information on the wind field near the ocean surface, and scatterometry is the knowledge of extracting this information from the instrument’s output. Spacebased scatterometry has become of great benefit to meteorology and climate in the past years. \n",
    "\n",
    "KNMI has a long experience in scatterometer processing and is developing generic software for this purpose. Processing systems have been developed for the ERS, NSCAT, SeaWinds, ASCAT, OSCAT, RapidScat, and HSCAT (HY-2 series) scatterometers. Scatterometer processing software is distributed through the EUMETSAT Numerical Weather Prediction Satellite Application Facility (NWP SAF) website, whereas wind processing is performed operationally in the Ocean and Sea Ice SAF (OSI SAF) and in the EARS project. \n",
    "\n",
    "EUMETSAT makes available near real-time Level 1b scatterometer products from the Metop-A, Metop-B, and Metop-C satellites through EUMETCast (global data) and through a private network (regional data). These products are used as basis for further processing at KNMI. \n",
    "\n",
    "The OSI SAF and EARS products are delivered on request through the KNMI FTP server to all users and through the EUMETCast system. See also https://scatterometer.knmi.nl/ for real-time graphical examples of the products and up-to-date information and documentation.\n",
    "\n",
    "Further information on the sensor and its data can be found at https://osi-saf.eumetsat.int and https://osi-saf.eumetsat.int/products/wind-products page.\n",
    "\n",
    "\n",
    "### Module outline\n",
    "\n",
    "The **learn-osi-saf-wind** module consists of a collection of Python-based Jupyter notebooks designed to demonstrate how to access and map different OSI SAF Wind products. The module will introduce you to:\n",
    "\n",
    "* the specifics of the OSI SAF wind products\n",
    "* the ways in which you can access OSI SAF wind data\n",
    "* the parameters that OSI SAF wind provides at level-2 and how to acces higher level data\n",
    "* approaches to working with OSI SAF wind data in common use cases\n",
    "\n",
    "<hr>\n",
    "\n",
    "### How to use this material\n",
    "\n",
    "This module is based around a series of <a href=\"https://jupyter.org/\" target=\"_blank\">Jupyter Notebooks</a>. These support high-level interactive learning by allowing us to combine code, text descriptions and data visualisations. If you have not worked with Jupyter Notebooks before, please look at the\n",
    "\n",
    "<a href=\"./working-with-python/Intro_to_Python_and_Jupyter.ipynb\" target=\"_blank\">Introduction to Python and Project Jupyter</a> module to get a short introduction to their usage and benefits. Refer to this module's **README** for further information on how to set up Jupyter.\n",
    "\n",
    "This module is split in to two parts, designed for:\n",
    "* <font color=\"#229954\">**introductory users**</font>, who have basic knowledge of Python and are new to using OSI SAF data\n",
    "\n",
    "There is a suggested order in which to access the notebooks, and pre-requisites where applicable are listed at the top of each notebook. However, not all notebooks may be relevant for every user, so we have tried to make each one as self contained as possible.\n",
    "\n",
    "<hr>\n",
    "\n",
    "### Learning outcomes\n",
    "\n",
    "From this module, you can expect to learn:\n",
    "* How to access OSI SAF wind data from both the OSI SAF KNMI FTP data service\n",
    "* The general file structure of OSI SAF Wind products, and how to read them using Python\n",
    "* How to visualise OSI SAF wind data products, applying appropriate flags\n",
    "\n",
    "<hr>"
   ]
  },
  {
   "cell_type": "markdown",
   "metadata": {},
   "source": [
    "<div class=\"alert alert-info\" role=\"alert\">\n",
    "\n",
    "## <a id='TOC_TOP'></a>Contents\n",
    "\n",
    "</div>\n",
    "    \n",
    "This modules offers notebooks for introductory uses of OSI SAF wind data.\n",
    "\n",
    "<h3>OSI SAF <font color=\"#229954\"> introductory</font> notebooks.</h3>\n",
    "\n",
    " These resources will introduce you to the fundamentals of OSI SAF wind data<br>\n",
    " *  <a href=\"./1_OSI_SAF_wind_introductory/1_1_OSI_SAF_wind_FTP_data_access.ipynb\" target=\"_blank\">1.1 Accessing OSI SAF wind products from KNMI FTP server</a>\n",
    " *  <a href=\"./1_OSI_SAF_wind_introductory/1_2_OSI_SAF_wind_file_structure.ipynb\" target=\"_blank\">1.2 Exploring OSI SAF wind product structure</a>\n",
    " *  <a href=\"./1_OSI_SAF_wind_introductory/1_3_OSI_SAF_mapping_wind.ipynb\" target=\"_blank\">1.3 Mapping examples of OSI SAF wind products</a>"
   ]
  },
  {
   "cell_type": "markdown",
   "metadata": {},
   "source": [
    "<hr>\n",
    "<a href=\"https://gitlab.eumetsat.int/eumetlab/ocean\">View on GitLab</a> | <a href=\"https://training.eumetsat.int/\">EUMETSAT Training</a> | <a href=mailto:ops@eumetsat.int>Contact helpdesk for support </a> | <a href=mailto:Copernicus.training@eumetsat.int>Contact our training team to collaborate on and reuse this material</a></span></p>"
   ]
  }
 ],
 "metadata": {
  "kernelspec": {
   "display_name": "Python 3 (ipykernel)",
   "language": "python",
   "name": "python3"
  },
  "language_info": {
   "codemirror_mode": {
    "name": "ipython",
    "version": 3
   },
   "file_extension": ".py",
   "mimetype": "text/x-python",
   "name": "python",
   "nbconvert_exporter": "python",
   "pygments_lexer": "ipython3",
   "version": "3.9.13"
  }
 },
 "nbformat": 4,
 "nbformat_minor": 4
}
